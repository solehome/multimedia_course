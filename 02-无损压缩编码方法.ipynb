{
 "cells": [
  {
   "cell_type": "markdown",
   "metadata": {},
   "source": [
    "# 1. 算术编码法\n",
    "## 1.1 简单的实现方法"
   ]
  },
  {
   "cell_type": "code",
   "execution_count": 45,
   "metadata": {},
   "outputs": [],
   "source": [
    "words = ['a', 'b', 'c','d']\n",
    "freqs = [0.1, 0.4, 0.2, 0.3]\n",
    "\n",
    "info = 'cadacdbabccbaacbc'\n",
    "nc = len(words)"
   ]
  },
  {
   "cell_type": "markdown",
   "metadata": {},
   "source": [
    "以下是编码过程的实现："
   ]
  },
  {
   "cell_type": "code",
   "execution_count": 46,
   "metadata": {
    "scrolled": true
   },
   "outputs": [
    {
     "name": "stdout",
     "output_type": "stream",
     "text": [
      "[0, 0.1, 0.5, 0.7, 1.0]\n",
      "[0.5, 0.52, 0.6, 0.64, 0.7]\n",
      "[0.5, 0.502, 0.51, 0.514, 0.52]\n",
      "[0.514, 0.5146000000000001, 0.517, 0.5182, 0.52]\n",
      "[0.514, 0.51406, 0.5143, 0.51442, 0.5146]\n",
      "[0.5143, 0.514312, 0.51436, 0.5143840000000001, 0.5144200000000001]\n",
      "[0.5143840000000001, 0.5143876000000001, 0.514402, 0.5144092, 0.51442]\n",
      "[0.5143876000000001, 0.5143890400000001, 0.5143948, 0.5143976800000001, 0.514402]\n",
      "[0.5143876000000001, 0.5143877440000001, 0.5143883200000001, 0.5143886080000001, 0.5143890400000001]\n",
      "[0.5143877440000001, 0.5143878016000001, 0.514388032, 0.5143881472, 0.51438832]\n",
      "[0.514388032, 0.51438804352, 0.5143880896, 0.5143881126400001, 0.5143881472]\n",
      "[0.5143880896, 0.514388091904, 0.51438810112, 0.514388105728, 0.51438811264]\n",
      "[0.514388091904, 0.5143880928256, 0.514388096512, 0.5143880983552, 0.51438810112]\n",
      "[0.514388091904, 0.5143880919961601, 0.5143880923648001, 0.5143880925491201, 0.5143880928256002]\n",
      "[0.514388091904, 0.514388091913216, 0.5143880919500801, 0.5143880919685121, 0.5143880919961601]\n",
      "[0.5143880919500801, 0.5143880919519233, 0.514388091959296, 0.5143880919629824, 0.514388091968512]\n",
      "[0.5143880919519233, 0.5143880919526606, 0.5143880919556096, 0.5143880919570842, 0.514388091959296]\n",
      "\n",
      " code: 0.5143880919556096\n"
     ]
    }
   ],
   "source": [
    "minv = 0\n",
    "maxv = 1\n",
    "for c in info:\n",
    "    # 按字符的出现频率来分割当前区间\n",
    "    ticks = [i for i in range(nc+1)]\n",
    "    ticks[0] = minv\n",
    "    for j in range(1, nc+1):\n",
    "        ticks[j] = ticks[j-1] + freqs[j-1]*(maxv-minv)\n",
    "    print(ticks)\n",
    "    # 选择新的区间\n",
    "    newSeg = words.index(c)\n",
    "    minv = ticks[newSeg]\n",
    "    maxv = ticks[newSeg+1]\n",
    "    \n",
    "code = minv\n",
    "\n",
    "print('\\n code: '+ str(code))"
   ]
  },
  {
   "cell_type": "markdown",
   "metadata": {},
   "source": [
    "以下是解码过程的实现："
   ]
  },
  {
   "cell_type": "code",
   "execution_count": 47,
   "metadata": {},
   "outputs": [
    {
     "name": "stdout",
     "output_type": "stream",
     "text": [
      "cadacdbabccbaacbc\n"
     ]
    }
   ],
   "source": [
    "minv = 0\n",
    "maxv = 1\n",
    "decode = ''\n",
    "for c in info:\n",
    "    # 按字符的出现频率来分割当前区间\n",
    "    ticks = [i for i in range(nc+1)]\n",
    "    ticks[0] = minv\n",
    "    for j in range(1, nc+1):\n",
    "        ticks[j] = ticks[j-1] + freqs[j-1]*(maxv-minv)\n",
    "    \n",
    "    # 根据当前所处区间输出解码\n",
    "    idx = 0\n",
    "    while(code>=ticks[idx]):\n",
    "        idx = idx + 1\n",
    "    decode += words[idx-1]\n",
    "    minv = ticks[idx-1]\n",
    "    maxv = ticks[idx]\n",
    "\n",
    "print(decode)"
   ]
  },
  {
   "cell_type": "markdown",
   "metadata": {},
   "source": [
    "验证解码的正确性"
   ]
  },
  {
   "cell_type": "code",
   "execution_count": 48,
   "metadata": {},
   "outputs": [
    {
     "data": {
      "text/plain": [
       "True"
      ]
     },
     "execution_count": 48,
     "metadata": {},
     "output_type": "execute_result"
    }
   ],
   "source": [
    "info==decode"
   ]
  },
  {
   "cell_type": "markdown",
   "metadata": {},
   "source": [
    "请大家思考：\n",
    "- 目前的实现存在什么问题？\n",
    "- 该如何改进？"
   ]
  }
 ],
 "metadata": {
  "kernelspec": {
   "display_name": "Python 3",
   "language": "python",
   "name": "python3"
  },
  "language_info": {
   "codemirror_mode": {
    "name": "ipython",
    "version": 3
   },
   "file_extension": ".py",
   "mimetype": "text/x-python",
   "name": "python",
   "nbconvert_exporter": "python",
   "pygments_lexer": "ipython3",
   "version": "3.6.8"
  }
 },
 "nbformat": 4,
 "nbformat_minor": 2
}
