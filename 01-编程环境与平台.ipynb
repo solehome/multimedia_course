{
 "cells": [
  {
   "cell_type": "markdown",
   "metadata": {},
   "source": [
    "# 《多媒体原理与系统设计》\n",
    "## --- 编程环境与平台"
   ]
  },
  {
   "cell_type": "markdown",
   "metadata": {},
   "source": [
    "### 1.基于C/C++的编程环境与平台"
   ]
  },
  {
   "cell_type": "markdown",
   "metadata": {},
   "source": [
    "请大家按照参考教材中第2章叙述的方法安装并配置Visual Studio开发环境。\n",
    "\n",
    "参考教材信息：黄东军，《多媒体原理与应用设计》（核心技术、开发平台、Win32 API应用），清华大学出版社\n",
    "\n",
    "**注意：**\n",
    "\n",
    "建议安装最新版的Visual Studio 2019。在安装时注意**勾选**“使用C++的桌面开发”选项，以确保会安装C++编译器和相关功能。建议**不**勾选“Python开发”选项，因为我们建议用另外一种方式安装与Python有关的功能。"
   ]
  },
  {
   "cell_type": "markdown",
   "metadata": {},
   "source": [
    "参考教材中叙述的Win32 API桌面开发方法是windows平台上最基础、最灵活的图形界面程序开发模式。这种开发模式以面向过程的方式揭示了图形界面应用程序中“消息泵”、“消息处理循环”、“消息分发”、“消息处理”等重要概念，对于理解图形界面程序的运行机理具有重要意义，建议编程基础较好的同学加以研读。但这部分内容与“多媒体技术”之间并无直接关系，因此你也可以考虑使用更简单的基于Python的开发实验模式。"
   ]
  },
  {
   "cell_type": "markdown",
   "metadata": {},
   "source": [
    "### 2.基于Python的编程环境与平台"
   ]
  },
  {
   "cell_type": "markdown",
   "metadata": {},
   "source": [
    "#### 2.1 Python的安装\n",
    "请大家下载QQ群里的文件“Miniconda3-4.3.31-Windows-x86_64.exe”，并以默认选项进行安装。这是Python的一个常用发布包。\n",
    "\n",
    "安装完毕后，在开始菜单里找到“Anaconda Prompt”快捷方式，点击运行后可见命令行窗口。输入如下命令来检查已经安装的python模块:\n",
    "```\n",
    "conda list\n",
    "```\n",
    "如果没有看到numpy, scipy, matplotlib或jupyter，则分别安装。有两种安装方法，一种是用pyton语言官方的pip安装命令，另一种是用这个发布包所提供的conda命令。前者的好处是包含的模块多且全，后者的好处是所安装的模块是针对你的软硬件特别优化过的。建议先用**后者**(即conda命令)安装，如果找不到指定模块，再用前者（即pip命令）安装。下面以安装jupyter模块为例，分别演示两种安装命令：\n",
    "\n",
    "```\n",
    "pip install jupyter\n",
    "```\n",
    "或\n",
    "```\n",
    "conda install jupyter\n",
    "```\n",
    "\n",
    "暂时先确保安装了numpy、scipy、matplotlib和jupyter，这4个模块，以后需要其他模块时再安装。\n",
    "\n",
    "安装完毕后，你在“Anaconda Prompt”命令行窗口中输入：\n",
    "```\n",
    "python\n",
    "```\n",
    "就可以输入指令编程了:)"
   ]
  },
  {
   "cell_type": "markdown",
   "metadata": {},
   "source": [
    "#### 2.2 Python简介"
   ]
  },
  {
   "cell_type": "markdown",
   "metadata": {},
   "source": [
    "Python是一种解释执行的语言，执行速度比C/C++慢的多，但语法更简洁易用，目前广泛应用于数据分析、人工智能、网络后端开发等领域。针对其执行速度慢的缺点，核心计算代码往往采用C/C++实现，然后通过接口的方式让Python调用。这样既保证了效率，也兼顾了易用性。"
   ]
  },
  {
   "cell_type": "markdown",
   "metadata": {},
   "source": [
    "因为它是解释执行的语言，所以输入指令按回车后，指令会立即被执行。比如你输入："
   ]
  },
  {
   "cell_type": "code",
   "execution_count": 1,
   "metadata": {},
   "outputs": [
    {
     "data": {
      "text/plain": [
       "2"
      ]
     },
     "execution_count": 1,
     "metadata": {},
     "output_type": "execute_result"
    }
   ],
   "source": [
    "1+1"
   ]
  },
  {
   "cell_type": "markdown",
   "metadata": {},
   "source": [
    "当然也可以用变量来保存不同类型的数据，而且它不需要实现声明变量类型，它是根据你的具体赋值来猜测变量的类型。比如："
   ]
  },
  {
   "cell_type": "code",
   "execution_count": 3,
   "metadata": {},
   "outputs": [
    {
     "data": {
      "text/plain": [
       "int"
      ]
     },
     "execution_count": 3,
     "metadata": {},
     "output_type": "execute_result"
    }
   ],
   "source": [
    "a = 1\n",
    "type(a)"
   ]
  },
  {
   "cell_type": "code",
   "execution_count": 4,
   "metadata": {},
   "outputs": [
    {
     "data": {
      "text/plain": [
       "float"
      ]
     },
     "execution_count": 4,
     "metadata": {},
     "output_type": "execute_result"
    }
   ],
   "source": [
    "a = 1.4\n",
    "type(a)"
   ]
  },
  {
   "cell_type": "code",
   "execution_count": 5,
   "metadata": {},
   "outputs": [
    {
     "data": {
      "text/plain": [
       "str"
      ]
     },
     "execution_count": 5,
     "metadata": {},
     "output_type": "execute_result"
    }
   ],
   "source": [
    "a = 'OK'\n",
    "type(a)"
   ]
  },
  {
   "cell_type": "markdown",
   "metadata": {},
   "source": [
    "你可以用列表来保存数组，不需要实现指定列表长度，可以随时增删数据，而且同一个列表中可以存放不同类型的元素。比如："
   ]
  },
  {
   "cell_type": "code",
   "execution_count": 6,
   "metadata": {},
   "outputs": [
    {
     "data": {
      "text/plain": [
       "list"
      ]
     },
     "execution_count": 6,
     "metadata": {},
     "output_type": "execute_result"
    }
   ],
   "source": [
    "lst = []\n",
    "type(lst)"
   ]
  },
  {
   "cell_type": "code",
   "execution_count": 7,
   "metadata": {},
   "outputs": [
    {
     "data": {
      "text/plain": [
       "['OK']"
      ]
     },
     "execution_count": 7,
     "metadata": {},
     "output_type": "execute_result"
    }
   ],
   "source": [
    "lst.append(a)\n",
    "lst"
   ]
  },
  {
   "cell_type": "code",
   "execution_count": 8,
   "metadata": {},
   "outputs": [
    {
     "data": {
      "text/plain": [
       "1"
      ]
     },
     "execution_count": 8,
     "metadata": {},
     "output_type": "execute_result"
    }
   ],
   "source": [
    "len(lst)"
   ]
  },
  {
   "cell_type": "code",
   "execution_count": 14,
   "metadata": {},
   "outputs": [
    {
     "data": {
      "text/plain": [
       "0"
      ]
     },
     "execution_count": 14,
     "metadata": {},
     "output_type": "execute_result"
    }
   ],
   "source": [
    "del lst[0]  #  注意它是以0开始索引元素的，而且是用方括号来访问特定序号的元素\n",
    "len(lst)"
   ]
  },
  {
   "cell_type": "code",
   "execution_count": 16,
   "metadata": {},
   "outputs": [
    {
     "name": "stdout",
     "output_type": "stream",
     "text": [
      "[2, 3]\n",
      "[3]\n"
     ]
    }
   ],
   "source": [
    "lst = [2, 3]\n",
    "print(lst)  # print命令可以打印常见类型变量的内容\n",
    "lst.remove(2) # 请观察.remove方法与前面的del命令有何不同？\n",
    "print(lst)"
   ]
  },
  {
   "cell_type": "code",
   "execution_count": 17,
   "metadata": {},
   "outputs": [
    {
     "name": "stdout",
     "output_type": "stream",
     "text": [
      "[2, 'OK']\n"
     ]
    }
   ],
   "source": [
    "lst = [2, 'OK'] #列表中可以保存不同类型的元素\n",
    "print(lst)"
   ]
  },
  {
   "cell_type": "markdown",
   "metadata": {},
   "source": [
    "前面的示例已经演示了顺序执行的代码，注意：**是不需要“；”**结束符的\n",
    "\n",
    "**下面来演示循环的语法**"
   ]
  },
  {
   "cell_type": "code",
   "execution_count": 21,
   "metadata": {},
   "outputs": [
    {
     "name": "stdout",
     "output_type": "stream",
     "text": [
      "OK\n",
      "OK\n",
      "OK\n"
     ]
    }
   ],
   "source": [
    "for i in range(3):\n",
    "    print('OK')"
   ]
  },
  {
   "cell_type": "markdown",
   "metadata": {},
   "source": [
    "其中range函数返回一个整数序列，请看："
   ]
  },
  {
   "cell_type": "code",
   "execution_count": 28,
   "metadata": {},
   "outputs": [
    {
     "data": {
      "text/plain": [
       "[0, 1, 2]"
      ]
     },
     "execution_count": 28,
     "metadata": {},
     "output_type": "execute_result"
    }
   ],
   "source": [
    "list(range(3)) "
   ]
  },
  {
   "cell_type": "markdown",
   "metadata": {},
   "source": [
    "所以上面的循环代码中，i分别取0,1,2三个值。如果你想让循环变量i取不同的值域，可以用这样的语法："
   ]
  },
  {
   "cell_type": "code",
   "execution_count": 30,
   "metadata": {},
   "outputs": [
    {
     "data": {
      "text/plain": [
       "[1, 2, 3]"
      ]
     },
     "execution_count": 30,
     "metadata": {},
     "output_type": "execute_result"
    }
   ],
   "source": [
    "list(range(1,4))#注意：值域的上限比第二个参数小1."
   ]
  },
  {
   "cell_type": "code",
   "execution_count": 32,
   "metadata": {},
   "outputs": [
    {
     "data": {
      "text/plain": [
       "[1, 3, 5]"
      ]
     },
     "execution_count": 32,
     "metadata": {},
     "output_type": "execute_result"
    }
   ],
   "source": [
    "list(range(1,6,2)) #还可以通过添加第3个参数来指定元素间的步长"
   ]
  },
  {
   "cell_type": "markdown",
   "metadata": {},
   "source": [
    "**特别容易出错的是：**\n",
    "- 忘记写for语句所在行结尾的冒号\n",
    "- 忘记给循环体缩进。由于Python没有语句的开始和结束符“{}”，所以它是通过缩进来识别for语句的循环体代码范围的。一般用Tab键缩进，或者统一缩进固定长度的字符。"
   ]
  },
  {
   "cell_type": "markdown",
   "metadata": {},
   "source": [
    "**最后来演示分支语句的语法**"
   ]
  },
  {
   "cell_type": "code",
   "execution_count": 3,
   "metadata": {},
   "outputs": [
    {
     "name": "stdout",
     "output_type": "stream",
     "text": [
      "a>0\n"
     ]
    }
   ],
   "source": [
    "a = 1\n",
    "if a > 0:\n",
    "    print('a>0')\n",
    "elif a==0:\n",
    "    print('a==0')\n",
    "else:\n",
    "    print('a<0')"
   ]
  },
  {
   "cell_type": "markdown",
   "metadata": {},
   "source": [
    "通过上面的if语句示范可见，python的分支语句与其他语言类似，只是个别标识符不一样，比如elif；此外，每一个分支条件语句都要跟一个冒号。而且是通过缩进的方式来划定分支语句的范围的。"
   ]
  },
  {
   "cell_type": "markdown",
   "metadata": {},
   "source": [
    "#### 2.3 Python语言的其他关键语法"
   ]
  },
  {
   "cell_type": "markdown",
   "metadata": {},
   "source": [
    "有了上面的基础，大家就不难调研Python的其他关键语法了：\n",
    "- 函数的定义和调用方法\n",
    "- 面向对象编程方法\n",
    "- 模块(module)的定义和使用方法"
   ]
  }
 ],
 "metadata": {
  "kernelspec": {
   "display_name": "Python 3",
   "language": "python",
   "name": "python3"
  },
  "language_info": {
   "codemirror_mode": {
    "name": "ipython",
    "version": 3
   },
   "file_extension": ".py",
   "mimetype": "text/x-python",
   "name": "python",
   "nbconvert_exporter": "python",
   "pygments_lexer": "ipython3",
   "version": "3.7.1"
  }
 },
 "nbformat": 4,
 "nbformat_minor": 2
}
